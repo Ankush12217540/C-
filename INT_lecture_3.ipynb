{
  "cells": [
    {
      "cell_type": "markdown",
      "metadata": {
        "id": "view-in-github",
        "colab_type": "text"
      },
      "source": [
        "<a href=\"https://colab.research.google.com/github/Ankush12217540/CPP-learning/blob/main/INT_lecture_3.ipynb\" target=\"_parent\"><img src=\"https://colab.research.google.com/assets/colab-badge.svg\" alt=\"Open In Colab\"/></a>"
      ]
    },
    {
      "cell_type": "code",
      "execution_count": null,
      "metadata": {
        "colab": {
          "base_uri": "https://localhost:8080/"
        },
        "id": "6cYBID4cNVNT",
        "outputId": "e04ec4f5-9860-489d-97d3-f9418d2e24b5"
      },
      "outputs": [
        {
          "name": "stdout",
          "output_type": "stream",
          "text": [
            "0.15190729880460285\n"
          ]
        }
      ],
      "source": [
        "import random\n",
        "print(random.random())\n"
      ]
    },
    {
      "cell_type": "code",
      "execution_count": null,
      "metadata": {
        "colab": {
          "base_uri": "https://localhost:8080/"
        },
        "id": "Pz4uHNyQNu_X",
        "outputId": "8725be9e-498f-4e66-b0f2-ce6a43a9e5b5"
      },
      "outputs": [
        {
          "name": "stdout",
          "output_type": "stream",
          "text": [
            "5\n"
          ]
        }
      ],
      "source": [
        "import random\n",
        "print(random.randint(1,5))"
      ]
    },
    {
      "cell_type": "code",
      "execution_count": null,
      "metadata": {
        "colab": {
          "base_uri": "https://localhost:8080/"
        },
        "id": "vOTfVqhnOKM1",
        "outputId": "65fe4b26-9397-4d9a-a4a6-a79e610e00a9"
      },
      "outputs": [
        {
          "name": "stdout",
          "output_type": "stream",
          "text": [
            "Hi my name is Ankush and I am at LPU studing Python in KOC29 from Anurag Sir,\n",
            "I am here at LPU after having delicious lunch\n",
            "I am about to go library after lecture\n"
          ]
        }
      ],
      "source": [
        "a=\"\"\"Hi my name is Ankush and I am at LPU studing Python in KOC29 from Anurag Sir,\n",
        "I am here at LPU after having delicious lunch\n",
        "I am about to go library after lecture\"\"\"\n",
        "print(a)"
      ]
    },
    {
      "cell_type": "code",
      "execution_count": null,
      "metadata": {
        "id": "j3fKin60QQtx"
      },
      "outputs": [],
      "source": [
        "#string operations\n",
        "#slicing \n",
        "b=\"Cipher School\"\n",
        "print(b[2:5])\n",
        "print(b[2:])\n",
        "print(b[:5])\n",
        "print(b.upper())"
      ]
    },
    {
      "cell_type": "code",
      "execution_count": null,
      "metadata": {
        "colab": {
          "base_uri": "https://localhost:8080/"
        },
        "id": "eHhEQSCPS83K",
        "outputId": "c3f3e146-e314-4e1c-ca40-5d2741bd3647"
      },
      "outputs": [
        {
          "name": "stdout",
          "output_type": "stream",
          "text": [
            "My name is something and age is 40\n"
          ]
        }
      ],
      "source": [
        "age=40;\n",
        "sent=\"My name is something and age is {}\"\n",
        "print(sent.format(age))"
      ]
    },
    {
      "cell_type": "markdown",
      "metadata": {
        "id": "HXLCVT-qZogM"
      },
      "source": [
        "drimport os    \n",
        "import time    \n",
        "    \n",
        "board = [' ',' ',' ',' ',' ',' ',' ',' ',' ',' ']    \n",
        "player = 1    \n",
        "   \n",
        "########win Flags##########    \n",
        "Win = 1    \n",
        "Draw = -1    \n",
        "Running = 0    \n",
        "Stop = 1    \n",
        "###########################    \n",
        "Game = Running    \n",
        "Mark = 'X'    \n",
        "   \n",
        "#This Function Draws Game Board    \n",
        "def DrawBoard():    \n",
        "    print(\" %c | %c | %c \" % (board[1],board[2],board[3]))    \n",
        "    print(\"___|___|___\")    \n",
        "    print(\" %c | %c | %c \" % (board[4],board[5],board[6]))    \n",
        "    print(\"___|___|___\")    \n",
        "    print(\" %c | %c | %c \" % (board[7],board[8],board[9]))    \n",
        "    print(\"   |   |   \")    \n",
        "   \n",
        "#This Function Checks position is empty or not    \n",
        "def CheckPosition(x):    \n",
        "    if(board[x] == ' '):    \n",
        "        return True    \n",
        "    else:    \n",
        "        return False    \n",
        "   \n",
        "#This Function Checks player has won or not    \n",
        "def CheckWin():    \n",
        "    global Game    \n",
        "    #Horizontal winning condition    \n",
        "    if(board[1] == board[2] and board[2] == board[3] and board[1] != ' '):    \n",
        "        Game = Win    \n",
        "    elif(board[4] == board[5] and board[5] == board[6] and board[4] != ' '):    \n",
        "        Game = Win    \n",
        "    elif(board[7] == board[8] and board[8] == board[9] and board[7] != ' '):    \n",
        "        Game = Win    \n",
        "    #Vertical Winning Condition    \n",
        "    elif(board[1] == board[4] and board[4] == board[7] and board[1] != ' '):    \n",
        "        Game = Win    \n",
        "    elif(board[2] == board[5] and board[5] == board[8] and board[2] != ' '):    \n",
        "        Game = Win    \n",
        "    elif(board[3] == board[6] and board[6] == board[9] and board[3] != ' '):    \n",
        "        Game=Win    \n",
        "    #Diagonal Winning Condition    \n",
        "    elif(board[1] == board[5] and board[5] == board[9] and board[5] != ' '):    \n",
        "        Game = Win    \n",
        "    elif(board[3] == board[5] and board[5] == board[7] and board[5] != ' '):    \n",
        "        Game=Win    \n",
        "    #Match Tie or Draw Condition    \n",
        "    elif(board[1]!=' ' and board[2]!=' ' and board[3]!=' ' and board[4]!=' ' and board[5]!=' ' and board[6]!=' ' and board[7]!=' ' and board[8]!=' ' and board[9]!=' '):    \n",
        "        Game=Draw    \n",
        "    else:            \n",
        "        Game=Running    \n",
        "    \n",
        "print(\"Tic-Tac-Toe Game Designed By Sourabh Somani\")    \n",
        "print(\"Player 1 [X] --- Player 2 [O]\\n\")    \n",
        "print()    \n",
        "print()    \n",
        "print(\"Please Wait...\")    \n",
        "time.sleep(3)    \n",
        "while(Game == Running):    \n",
        "    os.system('cls')    \n",
        "    DrawBoard()    \n",
        "    if(player % 2 != 0):    \n",
        "        print(\"Player 1's chance\")    \n",
        "        Mark = 'X'    \n",
        "    else:    \n",
        "        print(\"Player 2's chance\")    \n",
        "        Mark = 'O'    \n",
        "    choice = int(input(\"Enter the position between [1-9] where you want to mark : \"))    \n",
        "    if(CheckPosition(choice)):    \n",
        "        board[choice] = Mark    \n",
        "        player+=1    \n",
        "        CheckWin()    \n",
        "    \n",
        "os.system('cls')    \n",
        "DrawBoard()    \n",
        "if(Game==Draw):    \n",
        "    print(\"Game Draw\")    \n",
        "elif(Game==Win):    \n",
        "    player-=1    \n",
        "    if(player%2!=0):    \n",
        "        print(\"Player 1 Won\")    \n",
        "    else:    \n",
        "        print(\"Player 2 Won\")    "
      ]
    },
    {
      "cell_type": "code",
      "execution_count": null,
      "metadata": {
        "id": "Bj_Nmuch0J43"
      },
      "outputs": [],
      "source": []
    },
    {
      "cell_type": "code",
      "execution_count": null,
      "metadata": {
        "id": "AhFlFwlKrorX"
      },
      "outputs": [],
      "source": []
    },
    {
      "cell_type": "code",
      "execution_count": null,
      "metadata": {
        "colab": {
          "base_uri": "https://localhost:8080/"
        },
        "id": "-Bngx-4eU1zn",
        "outputId": "3f6a6e4f-bb23-4547-f67a-2df6e23c6488"
      },
      "outputs": [
        {
          "name": "stdout",
          "output_type": "stream",
          "text": [
            "['MAC', 'Ankush', 'Aniket', 'Atul', 10, 'Anurag']\n",
            "<class 'list'>\n"
          ]
        }
      ],
      "source": [
        "#list\n",
        "col=[\"Ankush\",\"Aniket\",\"Atul\",10]\n",
        "col.append(\"Anurag\")\n",
        "col.insert(0,\"MAC\")\n",
        "print(col)\n",
        "print(type(col))"
      ]
    },
    {
      "cell_type": "code",
      "execution_count": null,
      "metadata": {
        "colab": {
          "base_uri": "https://localhost:8080/"
        },
        "id": "YD0qJTK8Zy8z",
        "outputId": "55fdfc86-0201-4826-9e97-36ff22db21ec"
      },
      "outputs": [
        {
          "name": "stdout",
          "output_type": "stream",
          "text": [
            "1\n",
            "2\n",
            "3\n"
          ]
        }
      ],
      "source": [
        "#loop\n",
        "i=1\n",
        "while i<10:\n",
        "  print(i)\n",
        "  if i==3:\n",
        "    break\n",
        "  i=i+1"
      ]
    },
    {
      "cell_type": "code",
      "execution_count": null,
      "metadata": {
        "id": "qQJz-q3Ur9dy"
      },
      "outputs": [],
      "source": []
    },
    {
      "cell_type": "code",
      "execution_count": null,
      "metadata": {
        "id": "BaHmX_ZJVa4Y"
      },
      "outputs": [],
      "source": [
        "#Random\n",
        "import random\n",
        "print(\"Welcome to RPS game\")\n",
        "uC=(\"Enter a either Rock or Paper or Scissors\")\n",
        "cI=[\"Rock\", \"Paper\",\"Scissor\"]\n",
        "cC=random.choice(cI)\n",
        "print(cC)"
      ]
    },
    {
      "cell_type": "code",
      "execution_count": null,
      "metadata": {
        "colab": {
          "base_uri": "https://localhost:8080/"
        },
        "id": "LnrTHpUzsYlA",
        "outputId": "9cb10ac6-d72e-40d2-80bd-4ef575db3e1b"
      },
      "outputs": [
        {
          "name": "stdout",
          "output_type": "stream",
          "text": [
            "Enter the first Number2456\n",
            "Enter the second NUmner5224\n",
            "The Sum of first and Second Number is: 7680\n"
          ]
        }
      ],
      "source": [
        "import math\n",
        "a=int(input(\"Enter the first Number\"))\n",
        "b=int(input(\"Enter the second NUmner\"))\n",
        "c=a+b\n",
        "print(\"The Sum of first and Second Number is:\",c)"
      ]
    },
    {
      "cell_type": "code",
      "execution_count": null,
      "metadata": {
        "colab": {
          "base_uri": "https://localhost:8080/"
        },
        "id": "v_c2xBistQFN",
        "outputId": "e3655c1e-0bd5-4436-da98-d9d1d44c068b"
      },
      "outputs": [
        {
          "name": "stdout",
          "output_type": "stream",
          "text": [
            "1\n",
            "7\n",
            "2\n",
            "3\n"
          ]
        }
      ],
      "source": [
        "import math\n",
        "a=min(1,2,3)\n",
        "b=max(1,4,7)\n",
        "c=math.floor(2.1)\n",
        "d=math.ceil(2.1)\n",
        "print(a)\n",
        "print(b)\n",
        "print(c)\n",
        "print(d)"
      ]
    },
    {
      "cell_type": "code",
      "execution_count": null,
      "metadata": {
        "colab": {
          "base_uri": "https://localhost:8080/"
        },
        "id": "ZupxzZhnv8V_",
        "outputId": "15ae04ef-6868-4c36-bccc-59202becc0d8"
      },
      "outputs": [
        {
          "name": "stdout",
          "output_type": "stream",
          "text": [
            "anurag\n",
            "sunil\n",
            "ankush\n"
          ]
        }
      ],
      "source": [
        "student=[\"anurag\",\"sunil\",\"ankush\"]\n",
        "for i in student:\n",
        "  print(i)\n",
        "  #for i in \"anurag\":\n",
        "   # print(i)\n"
      ]
    },
    {
      "cell_type": "code",
      "execution_count": null,
      "metadata": {
        "colab": {
          "base_uri": "https://localhost:8080/"
        },
        "id": "21xXXcUAxcqO",
        "outputId": "085e49b7-7154-46ac-d19c-e36efe71ecd6"
      },
      "outputs": [
        {
          "name": "stdout",
          "output_type": "stream",
          "text": [
            "a\n",
            "n\n",
            "u\n",
            "r\n",
            "a\n",
            "g\n"
          ]
        }
      ],
      "source": [
        "for i in \"anurag\":\n",
        "  print(i)"
      ]
    },
    {
      "cell_type": "code",
      "execution_count": null,
      "metadata": {
        "colab": {
          "base_uri": "https://localhost:8080/"
        },
        "id": "QkrwqoeNxoue",
        "outputId": "7c59f0ce-a190-4478-a26a-ebf7f5933fb7"
      },
      "outputs": [
        {
          "name": "stdout",
          "output_type": "stream",
          "text": [
            "0\n",
            "1\n",
            "2\n",
            "3\n",
            "4\n"
          ]
        }
      ],
      "source": [
        "for i in range(5):\n",
        "  print(i)"
      ]
    },
    {
      "cell_type": "code",
      "execution_count": null,
      "metadata": {
        "colab": {
          "base_uri": "https://localhost:8080/"
        },
        "id": "sHcigtPdxxwv",
        "outputId": "e2f8dc49-5d5c-463b-d040-88daf76c89a4"
      },
      "outputs": [
        {
          "name": "stdout",
          "output_type": "stream",
          "text": [
            "anurag\n"
          ]
        }
      ],
      "source": [
        "s=[\"anurag\",\"sunil\",\"ankush\"]\n",
        "for i in s:\n",
        "  if i==\"sunil\":\n",
        "    break\n",
        "  print(i)"
      ]
    },
    {
      "cell_type": "code",
      "execution_count": null,
      "metadata": {
        "id": "DsqmMFiv4YQC"
      },
      "outputs": [],
      "source": []
    },
    {
      "cell_type": "code",
      "execution_count": null,
      "metadata": {
        "colab": {
          "base_uri": "https://localhost:8080/"
        },
        "id": "vANgXDmByqtk",
        "outputId": "de0f9713-0697-4b0c-ef89-6548ca803176"
      },
      "outputs": [
        {
          "name": "stdout",
          "output_type": "stream",
          "text": [
            "1\n",
            "3\n",
            "5\n",
            "7\n",
            "9\n"
          ]
        }
      ],
      "source": [
        "for i in range(1,11,2):\n",
        "  print(i)"
      ]
    },
    {
      "cell_type": "code",
      "execution_count": null,
      "metadata": {
        "colab": {
          "base_uri": "https://localhost:8080/"
        },
        "id": "1sEFKBy_4Zkv",
        "outputId": "559226bc-1c1a-433c-97b7-3cf2599ace97"
      },
      "outputs": [
        {
          "name": "stdout",
          "output_type": "stream",
          "text": [
            "anurag red\n",
            "anurag blue\n",
            "anurag green\n",
            "sunil red\n",
            "sunil blue\n",
            "sunil green\n",
            "ankush red\n",
            "ankush blue\n",
            "ankush green\n"
          ]
        }
      ],
      "source": [
        "#Nested for loop\n",
        "student=[\"anurag\",\"sunil\",\"ankush\"]\n",
        "color=[\"red\",\"blue\",\"green\"]\n",
        "for i in student:\n",
        "  for j in color:\n",
        "    print(i,j)\n"
      ]
    },
    {
      "cell_type": "code",
      "execution_count": null,
      "metadata": {
        "colab": {
          "base_uri": "https://localhost:8080/"
        },
        "id": "_EuzI1RtRgQ4",
        "outputId": "f45fc4e2-76cc-45c3-ee19-66d9a783aec0"
      },
      "outputs": [
        {
          "name": "stdout",
          "output_type": "stream",
          "text": [
            "Enter number of row: 5\n",
            "* \n",
            "* * \n",
            "* * * \n",
            "* * * * \n",
            "* * * * * \n"
          ]
        }
      ],
      "source": [
        "\n",
        "def pattern(n):\n",
        "   for i in range(1, n+1):\n",
        "      # print star\n",
        "      print(\"* \" * i)\n",
        " \n",
        "# take input\n",
        "n = int(input('Enter number of row: '))\n",
        "\n",
        "# function call\n",
        "pattern(n)"
      ]
    },
    {
      "cell_type": "code",
      "execution_count": null,
      "metadata": {
        "colab": {
          "base_uri": "https://localhost:8080/"
        },
        "id": "uvu-LGocSkNk",
        "outputId": "560fa1c7-7f0f-4d3a-fd66-34b3672fd7f5"
      },
      "outputs": [
        {
          "name": "stdout",
          "output_type": "stream",
          "text": [
            "Please Enter the Total Number of Rows  : 8\n",
            "Right Angled Triangle Star Pattern\n",
            "*  \n",
            "*  *  \n",
            "*  *  *  \n",
            "*  *  *  *  \n",
            "*  *  *  *  *  \n",
            "*  *  *  *  *  *  \n",
            "*  *  *  *  *  *  *  \n",
            "*  *  *  *  *  *  *  *  \n"
          ]
        }
      ],
      "source": [
        "# PRINTING A PATTERN USING NESTED FOR LOOP\n",
        "rows = int(input(\"Please Enter the Total Number of Rows  : \"))\n",
        "\n",
        "print(\"Right Angled Triangle Star Pattern\") \n",
        "for i in range(1, rows + 1):\n",
        "    for j in range(1, i + 1):\n",
        "        print('*', end = '  ')\n",
        "    print()"
      ]
    },
    {
      "cell_type": "code",
      "execution_count": null,
      "metadata": {
        "colab": {
          "base_uri": "https://localhost:8080/"
        },
        "id": "-3Ij4wCdTEPW",
        "outputId": "0c049d64-5163-480a-8fe5-b03733045041"
      },
      "outputs": [
        {
          "name": "stdout",
          "output_type": "stream",
          "text": [
            "Enter NO of Rows5\n",
            "*\n",
            "\n",
            "*\n",
            "\n",
            "*\n",
            "\n",
            "*\n",
            "\n",
            "*\n",
            "\n",
            "*\n",
            "\n",
            "*\n",
            "\n",
            "*\n",
            "\n",
            "*\n",
            "\n",
            "*\n",
            "\n",
            "*\n",
            "\n",
            "*\n",
            "\n",
            "*\n",
            "\n",
            "*\n",
            "\n",
            "*\n",
            "\n"
          ]
        }
      ],
      "source": [
        "# PRINTING A PATTERN USING NESTED FOR LOOP\n",
        "n=int(input(\"Enter NO of Rows\"))\n",
        "for i in range(0,n):\n",
        " for j in range(0,i+1):\n",
        "   print(\"*\",end=\"\")\n",
        "   print(\"\\n\")\n"
      ]
    },
    {
      "cell_type": "code",
      "execution_count": null,
      "metadata": {
        "colab": {
          "base_uri": "https://localhost:8080/"
        },
        "id": "yTPlPsgTWcbZ",
        "outputId": "b35fc237-b76e-4c29-d75d-64a0dd463f1a"
      },
      "outputs": [
        {
          "name": "stdout",
          "output_type": "stream",
          "text": [
            "<class 'tuple'>\n",
            "3\n",
            "sunil\n",
            "Yes,It is present\n"
          ]
        }
      ],
      "source": [
        "#Another data type: TUPLE\n",
        "# Ordered And Unchangable\n",
        "a=(\"anurag\",\"sunil\",\"tanush\")\n",
        "print(type(a))\n",
        "print(len(a))\n",
        "print(a[1])\n",
        "if \"anurag\" in a:\n",
        " print(\"Yes,It is present\")"
      ]
    },
    {
      "cell_type": "code",
      "execution_count": null,
      "metadata": {
        "colab": {
          "base_uri": "https://localhost:8080/"
        },
        "id": "Q3fNo1ovba77",
        "outputId": "8f816e18-1f9e-46fb-ac85-a84384534c66"
      },
      "outputs": [
        {
          "name": "stdout",
          "output_type": "stream",
          "text": [
            "{'sunil', 'tanush', 'anurag'}\n"
          ]
        }
      ],
      "source": [
        "#Another Data Type:set\n",
        "a={\"anurag\",\"sunil\",\"tanush\"}\n",
        "print(a)"
      ]
    },
    {
      "cell_type": "code",
      "execution_count": null,
      "metadata": {
        "id": "WVI5AKxnf_Le"
      },
      "outputs": [],
      "source": [
        "#Another Data Type: Dictonary\n",
        "#ordered, Changebale\n"
      ]
    },
    {
      "cell_type": "code",
      "execution_count": null,
      "metadata": {
        "id": "jUhWjpM90LMZ"
      },
      "outputs": [],
      "source": [
        "def pr():\n",
        "  print(\"Hi I am being called by user defined function pr\")"
      ]
    },
    {
      "cell_type": "code",
      "execution_count": null,
      "metadata": {
        "colab": {
          "base_uri": "https://localhost:8080/"
        },
        "id": "RJFAG4_90s5i",
        "outputId": "019b5193-18d3-445a-8e5a-cfa0fd05fde6"
      },
      "outputs": [
        {
          "name": "stdout",
          "output_type": "stream",
          "text": [
            "Hi I am being called by user defined function pr\n"
          ]
        }
      ],
      "source": [
        "pr()"
      ]
    },
    {
      "cell_type": "code",
      "execution_count": null,
      "metadata": {
        "id": "ErHny1FE0wEF"
      },
      "outputs": [],
      "source": [
        "def pr(name):\n",
        "  print(name + \"Cipher\")"
      ]
    },
    {
      "cell_type": "code",
      "execution_count": null,
      "metadata": {
        "colab": {
          "base_uri": "https://localhost:8080/"
        },
        "id": "At-vlv7A12fo",
        "outputId": "b290d65f-fb21-46ac-b5fc-ab8469c2175e"
      },
      "outputs": [
        {
          "name": "stdout",
          "output_type": "stream",
          "text": [
            "Anurag Cipher\n"
          ]
        }
      ],
      "source": [
        "pr(\"Anurag \")"
      ]
    },
    {
      "cell_type": "code",
      "execution_count": null,
      "metadata": {
        "id": "lm6fYK6r2ZmC"
      },
      "outputs": [],
      "source": [
        "  def pr(first_name, last_name):\n",
        "    print(first_name +\" \" + last_name)"
      ]
    },
    {
      "cell_type": "code",
      "execution_count": null,
      "metadata": {
        "colab": {
          "base_uri": "https://localhost:8080/"
        },
        "id": "rXCPMqdF5iLZ",
        "outputId": "90b23d4c-7ed8-409a-fa80-d5e35eeef621"
      },
      "outputs": [
        {
          "name": "stdout",
          "output_type": "stream",
          "text": [
            "CipherSchool\n"
          ]
        }
      ],
      "source": [
        "pr(\"Cipher \" ,\"School\")"
      ]
    },
    {
      "cell_type": "code",
      "execution_count": null,
      "metadata": {
        "id": "tpsp7ExJ6HyN"
      },
      "outputs": [],
      "source": [
        "def pr(name1,name2,name3):\n",
        "  print(\"My name is \"+ name2)"
      ]
    },
    {
      "cell_type": "code",
      "execution_count": null,
      "metadata": {
        "colab": {
          "base_uri": "https://localhost:8080/",
          "height": 130
        },
        "id": "sK16y1xq9E4W",
        "outputId": "6beb0310-c988-489f-c46b-35aa3a8c5166"
      },
      "outputs": [
        {
          "ename": "SyntaxError",
          "evalue": "ignored",
          "output_type": "error",
          "traceback": [
            "\u001b[0;36m  File \u001b[0;32m\"<ipython-input-15-b4c2e52c00b7>\"\u001b[0;36m, line \u001b[0;32m2\u001b[0m\n\u001b[0;31m    retrurn 5*n\u001b[0m\n\u001b[0m            ^\u001b[0m\n\u001b[0;31mSyntaxError\u001b[0m\u001b[0;31m:\u001b[0m invalid syntax\n"
          ]
        }
      ],
      "source": [
        " def pr(n):\n",
        "  retrurn 5*n\n",
        "  pr(9)"
      ]
    },
    {
      "cell_type": "code",
      "execution_count": null,
      "metadata": {
        "id": "Z1ICP1mk_XDQ"
      },
      "outputs": [],
      "source": [
        "#Recursion on Factoriial\n",
        "def factorial(n):\n",
        "  if n==1:\n",
        "    return 1;\n",
        "  else:\n",
        "    return (n*factorial(n-1))\n",
        "    factorial(5)"
      ]
    },
    {
      "cell_type": "code",
      "execution_count": null,
      "metadata": {
        "colab": {
          "background_save": true,
          "base_uri": "https://localhost:8080/"
        },
        "id": "TFtgotbQY3Ts",
        "outputId": "7d1d7b64-33bc-43bf-861d-651871e50741"
      },
      "outputs": [
        {
          "name": "stdout",
          "output_type": "stream",
          "text": [
            "Select operation.\n",
            "1.Add\n",
            "2.Subtract\n",
            "3.Multiply\n",
            "4.Divide\n",
            "10.0 - 5.0 = 5.0\n"
          ]
        }
      ],
      "source": [
        "# Program make a simple calculator\n",
        "\n",
        "# This function adds two numbers\n",
        "def add(x, y):\n",
        "    return x + y\n",
        "\n",
        "# This function subtracts two numbers\n",
        "def subtract(x, y):\n",
        "    return x - y\n",
        "\n",
        "# This function multiplies two numbers\n",
        "def multiply(x, y):\n",
        "    return x * y\n",
        "\n",
        "# This function divides two numbers\n",
        "def divide(x, y):\n",
        "    return x / y\n",
        "\n",
        "\n",
        "print(\"Select operation.\")\n",
        "print(\"1.Add\")\n",
        "print(\"2.Subtract\")\n",
        "print(\"3.Multiply\")\n",
        "print(\"4.Divide\")\n",
        "\n",
        "while True:\n",
        "    # take input from the user\n",
        "    choice = input(\"Enter choice(1/2/3/4): \") #if i am not writing any data type to choice then it will always be string typeg \n",
        "\n",
        "    # check if choice is one of the four options\n",
        "    if choice in ('1', '2', '3', '4'):\n",
        "        num1 = float(input(\"Enter first number: \"))\n",
        "        num2 = float(input(\"Enter second number: \"))\n",
        "\n",
        "        if choice == '1':\n",
        "            print(num1, \"+\", num2, \"=\", add(num1, num2))\n",
        "\n",
        "        elif choice == '2':\n",
        "            print(num1, \"-\", num2, \"=\", subtract(num1, num2))\n",
        "\n",
        "        elif choice == '3':\n",
        "            print(num1, \"*\", num2, \"=\", multiply(num1, num2))\n",
        "\n",
        "        elif choice == '4':\n",
        "            print(num1, \"/\", num2, \"=\", divide(num1, num2))\n",
        "        \n",
        "        # check if user wants another calculation\n",
        "        # break the while loop if answer is no\n",
        "        next_calculation = input(\"Let's do next calculation? (yes/no): \")\n",
        "        if next_calculation == \"no\":\n",
        "          break\n",
        "    \n",
        "    else:\n",
        "        print(\"Invalid Input\")"
      ]
    },
    {
      "cell_type": "code",
      "execution_count": null,
      "metadata": {
        "id": "O82rG97J2mwj"
      },
      "outputs": [],
      "source": [
        "# Prime Number:\n",
        "num=int(input(\"Enter the number \"))  #4\n",
        "count=0\n",
        "i=2\n",
        "while i<=(num-1):\n",
        " if num % i==0:\n",
        "  count=count+1\n",
        " i=i+1\n",
        "if count==1:\n",
        "  print(\"Is not a Prime\")\n",
        "else:\n",
        "  print(\"A Prime\")"
      ]
    },
    {
      "cell_type": "code",
      "source": [],
      "metadata": {
        "id": "UEGahxPEWaDP"
      },
      "execution_count": null,
      "outputs": []
    }
  ],
  "metadata": {
    "colab": {
      "provenance": [],
      "authorship_tag": "ABX9TyOV9luz3zwu0tC1cYOB/BxT",
      "include_colab_link": true
    },
    "kernelspec": {
      "display_name": "Python 3",
      "name": "python3"
    },
    "language_info": {
      "name": "python"
    }
  },
  "nbformat": 4,
  "nbformat_minor": 0
}